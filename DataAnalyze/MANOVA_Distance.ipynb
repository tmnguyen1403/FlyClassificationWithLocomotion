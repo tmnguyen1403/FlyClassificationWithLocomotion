{
 "cells": [
  {
   "cell_type": "code",
   "execution_count": 8,
   "metadata": {},
   "outputs": [],
   "source": [
    "import pandas as pd\n",
    "from statsmodels.multivariate.manova import MANOVA\n",
    "import numpy as np\n",
    "import matplotlib.pyplot as plt\n",
    "import seaborn as sns\n",
    "%matplotlib inline\n",
    "import warnings\n",
    "warnings.filterwarnings('ignore')\n",
    "import statsmodels.api as sm\n",
    "import statsmodels.formula.api as smf"
   ]
  },
  {
   "cell_type": "code",
   "execution_count": 3,
   "metadata": {},
   "outputs": [],
   "source": [
    "df = pd.read_excel(\"Combined Data in Distance with Time Blocks.xlsx\")"
   ]
  },
  {
   "cell_type": "code",
   "execution_count": 4,
   "metadata": {},
   "outputs": [],
   "source": [
    "df.columns = df.columns.str.replace(\" \", \"_\")"
   ]
  },
  {
   "cell_type": "code",
   "execution_count": 6,
   "metadata": {},
   "outputs": [
    {
     "data": {
      "text/html": [
       "<div>\n",
       "<style scoped>\n",
       "    .dataframe tbody tr th:only-of-type {\n",
       "        vertical-align: middle;\n",
       "    }\n",
       "\n",
       "    .dataframe tbody tr th {\n",
       "        vertical-align: top;\n",
       "    }\n",
       "\n",
       "    .dataframe thead th {\n",
       "        text-align: right;\n",
       "    }\n",
       "</style>\n",
       "<table border=\"1\" class=\"dataframe\">\n",
       "  <thead>\n",
       "    <tr style=\"text-align: right;\">\n",
       "      <th></th>\n",
       "      <th>Fly_Type</th>\n",
       "      <th>Period</th>\n",
       "      <th>Distance</th>\n",
       "    </tr>\n",
       "  </thead>\n",
       "  <tbody>\n",
       "    <tr>\n",
       "      <td>0</td>\n",
       "      <td>cantonS</td>\n",
       "      <td>0 - 2.5 mins</td>\n",
       "      <td>0.00000</td>\n",
       "    </tr>\n",
       "    <tr>\n",
       "      <td>1</td>\n",
       "      <td>cantonS</td>\n",
       "      <td>0 - 2.5 mins</td>\n",
       "      <td>0.51008</td>\n",
       "    </tr>\n",
       "    <tr>\n",
       "      <td>2</td>\n",
       "      <td>cantonS</td>\n",
       "      <td>0 - 2.5 mins</td>\n",
       "      <td>1.70768</td>\n",
       "    </tr>\n",
       "    <tr>\n",
       "      <td>3</td>\n",
       "      <td>cantonS</td>\n",
       "      <td>0 - 2.5 mins</td>\n",
       "      <td>0.71997</td>\n",
       "    </tr>\n",
       "    <tr>\n",
       "      <td>4</td>\n",
       "      <td>cantonS</td>\n",
       "      <td>0 - 2.5 mins</td>\n",
       "      <td>0.32923</td>\n",
       "    </tr>\n",
       "    <tr>\n",
       "      <td>...</td>\n",
       "      <td>...</td>\n",
       "      <td>...</td>\n",
       "      <td>...</td>\n",
       "    </tr>\n",
       "    <tr>\n",
       "      <td>2395</td>\n",
       "      <td>W1118</td>\n",
       "      <td>7.5 - 10 mins</td>\n",
       "      <td>1.31797</td>\n",
       "    </tr>\n",
       "    <tr>\n",
       "      <td>2396</td>\n",
       "      <td>W1118</td>\n",
       "      <td>7.5 - 10 mins</td>\n",
       "      <td>1.16071</td>\n",
       "    </tr>\n",
       "    <tr>\n",
       "      <td>2397</td>\n",
       "      <td>W1118</td>\n",
       "      <td>7.5 - 10 mins</td>\n",
       "      <td>0.15386</td>\n",
       "    </tr>\n",
       "    <tr>\n",
       "      <td>2398</td>\n",
       "      <td>W1118</td>\n",
       "      <td>7.5 - 10 mins</td>\n",
       "      <td>1.43026</td>\n",
       "    </tr>\n",
       "    <tr>\n",
       "      <td>2399</td>\n",
       "      <td>W1118</td>\n",
       "      <td>7.5 - 10 mins</td>\n",
       "      <td>2.22950</td>\n",
       "    </tr>\n",
       "  </tbody>\n",
       "</table>\n",
       "<p>2400 rows × 3 columns</p>\n",
       "</div>"
      ],
      "text/plain": [
       "     Fly_Type         Period  Distance\n",
       "0     cantonS   0 - 2.5 mins   0.00000\n",
       "1     cantonS   0 - 2.5 mins   0.51008\n",
       "2     cantonS   0 - 2.5 mins   1.70768\n",
       "3     cantonS   0 - 2.5 mins   0.71997\n",
       "4     cantonS   0 - 2.5 mins   0.32923\n",
       "...       ...            ...       ...\n",
       "2395    W1118  7.5 - 10 mins   1.31797\n",
       "2396    W1118  7.5 - 10 mins   1.16071\n",
       "2397    W1118  7.5 - 10 mins   0.15386\n",
       "2398    W1118  7.5 - 10 mins   1.43026\n",
       "2399    W1118  7.5 - 10 mins   2.22950\n",
       "\n",
       "[2400 rows x 3 columns]"
      ]
     },
     "execution_count": 6,
     "metadata": {},
     "output_type": "execute_result"
    }
   ],
   "source": [
    "df.dropna()"
   ]
  },
  {
   "cell_type": "code",
   "execution_count": 6,
   "metadata": {},
   "outputs": [],
   "source": [
    "maov = MANOVA.from_formula('Period * Fly_Type ~ Distance', data=df)"
   ]
  },
  {
   "cell_type": "code",
   "execution_count": 7,
   "metadata": {},
   "outputs": [
    {
     "name": "stdout",
     "output_type": "stream",
     "text": [
      "                                  Multivariate linear model\n",
      "=============================================================================================\n",
      "                                                                                             \n",
      "---------------------------------------------------------------------------------------------\n",
      "       Intercept               Value          Num DF   Den DF          F Value         Pr > F\n",
      "---------------------------------------------------------------------------------------------\n",
      "          Wilks' lambda               0.0000 16.0000 2383.0000 134150973900298512.0000 0.0000\n",
      "         Pillai's trace               1.0000 16.0000 2383.0000 134150973900298496.0000 0.0000\n",
      " Hotelling-Lawley trace 900719925474098.2500 16.0000 2383.0000 134150973900298512.0000 0.0000\n",
      "    Roy's greatest root 900719925474098.2500 16.0000 2383.0000 134150973900298512.0000 0.0000\n",
      "---------------------------------------------------------------------------------------------\n",
      "                                                                                             \n",
      "---------------------------------------------------------------------------------------------------\n",
      "              Distance              Value         Num DF         Den DF        F Value       Pr > F\n",
      "---------------------------------------------------------------------------------------------------\n",
      "                Wilks' lambda       0.7362       15.0000       2384.0000       56.9569       0.0000\n",
      "               Pillai's trace       0.2638       15.0000       2384.0000       56.9569       0.0000\n",
      "       Hotelling-Lawley trace       0.3584       15.0000       2384.0000       56.9569       0.0000\n",
      "          Roy's greatest root       0.3584       15.0000       2384.0000       56.9569       0.0000\n",
      "=============================================================================================\n",
      "\n"
     ]
    }
   ],
   "source": [
    "print(maov.mv_test())"
   ]
  },
  {
   "cell_type": "markdown",
   "metadata": {},
   "source": [
    "We can conclude that there is an association between distance and the relationship between period and genotype"
   ]
  },
  {
   "cell_type": "code",
   "execution_count": 11,
   "metadata": {},
   "outputs": [
    {
     "name": "stdout",
     "output_type": "stream",
     "text": [
      "                            OLS Regression Results                            \n",
      "==============================================================================\n",
      "Dep. Variable:               Distance   R-squared:                       0.264\n",
      "Model:                            OLS   Adj. R-squared:                  0.259\n",
      "Method:                 Least Squares   F-statistic:                     56.96\n",
      "Date:                Wed, 21 Apr 2021   Prob (F-statistic):          2.63e-146\n",
      "Time:                        22:29:03   Log-Likelihood:                -1194.8\n",
      "No. Observations:                2400   AIC:                             2422.\n",
      "Df Residuals:                    2384   BIC:                             2514.\n",
      "Df Model:                          15                                         \n",
      "Covariance Type:            nonrobust                                         \n",
      "================================================================================================================\n",
      "                                                   coef    std err          t      P>|t|      [0.025      0.975]\n",
      "----------------------------------------------------------------------------------------------------------------\n",
      "Intercept                                        0.1603      0.033      4.916      0.000       0.096       0.224\n",
      "Period[T.2.5 - 5 mins]                          -0.0200      0.046     -0.433      0.665      -0.110       0.070\n",
      "Period[T.5 - 7.5mins]                            0.2045      0.046      4.433      0.000       0.114       0.295\n",
      "Period[T.7.5 - 10 mins]                          0.2418      0.046      5.244      0.000       0.151       0.332\n",
      "Fly_Type[T.cantonS]                              0.6718      0.046     14.566      0.000       0.581       0.762\n",
      "Fly_Type[T.norpA7]                               0.4595      0.046      9.963      0.000       0.369       0.550\n",
      "Fly_Type[T.rutabaga]                             0.1706      0.046      3.699      0.000       0.080       0.261\n",
      "Period[T.2.5 - 5 mins]:Fly_Type[T.cantonS]      -0.4332      0.065     -6.642      0.000      -0.561      -0.305\n",
      "Period[T.5 - 7.5mins]:Fly_Type[T.cantonS]       -1.0308      0.065    -15.805      0.000      -1.159      -0.903\n",
      "Period[T.7.5 - 10 mins]:Fly_Type[T.cantonS]     -1.0663      0.065    -16.349      0.000      -1.194      -0.938\n",
      "Period[T.2.5 - 5 mins]:Fly_Type[T.norpA7]       -0.0959      0.065     -1.470      0.142      -0.224       0.032\n",
      "Period[T.5 - 7.5mins]:Fly_Type[T.norpA7]        -0.4060      0.065     -6.225      0.000      -0.534      -0.278\n",
      "Period[T.7.5 - 10 mins]:Fly_Type[T.norpA7]      -0.6279      0.065     -9.626      0.000      -0.756      -0.500\n",
      "Period[T.2.5 - 5 mins]:Fly_Type[T.rutabaga]     -0.2684      0.065     -4.116      0.000      -0.396      -0.141\n",
      "Period[T.5 - 7.5mins]:Fly_Type[T.rutabaga]      -0.5218      0.065     -8.000      0.000      -0.650      -0.394\n",
      "Period[T.7.5 - 10 mins]:Fly_Type[T.rutabaga]    -0.5607      0.065     -8.597      0.000      -0.689      -0.433\n",
      "==============================================================================\n",
      "Omnibus:                      655.878   Durbin-Watson:                   0.712\n",
      "Prob(Omnibus):                  0.000   Jarque-Bera (JB):             1917.360\n",
      "Skew:                           1.404   Prob(JB):                         0.00\n",
      "Kurtosis:                       6.361   Cond. No.                         23.0\n",
      "==============================================================================\n",
      "\n",
      "Warnings:\n",
      "[1] Standard Errors assume that the covariance matrix of the errors is correctly specified.\n"
     ]
    }
   ],
   "source": [
    "mod = smf.ols(formula = \"Distance ~ Period * Fly_Type\", data=df)\n",
    "res = mod.fit()\n",
    "print(res.summary())"
   ]
  },
  {
   "cell_type": "markdown",
   "metadata": {},
   "source": [
    "We reject the null hypothesis in this analysis is that a Distance has no effect on Period and Fly Type at alpha level .05 because the p-values are all less than .05"
   ]
  }
 ],
 "metadata": {
  "kernelspec": {
   "display_name": "Python 3",
   "language": "python",
   "name": "python3"
  },
  "language_info": {
   "codemirror_mode": {
    "name": "ipython",
    "version": 3
   },
   "file_extension": ".py",
   "mimetype": "text/x-python",
   "name": "python",
   "nbconvert_exporter": "python",
   "pygments_lexer": "ipython3",
   "version": "3.7.4"
  }
 },
 "nbformat": 4,
 "nbformat_minor": 2
}
