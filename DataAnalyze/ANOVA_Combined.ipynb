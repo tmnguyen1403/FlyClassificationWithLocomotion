{
 "cells": [
  {
   "cell_type": "code",
   "execution_count": 1,
   "metadata": {},
   "outputs": [],
   "source": [
    "import pandas as pd\n",
    "import numpy as np"
   ]
  },
  {
   "cell_type": "code",
   "execution_count": 3,
   "metadata": {},
   "outputs": [],
   "source": [
    "import statsmodels.api as sm\n",
    "from statsmodels.formula.api import ols"
   ]
  },
  {
   "cell_type": "markdown",
   "metadata": {},
   "source": [
    "# cantonS"
   ]
  },
  {
   "cell_type": "markdown",
   "metadata": {},
   "source": [
    "## Is the Turn Angle affected by Time ?"
   ]
  },
  {
   "cell_type": "code",
   "execution_count": 20,
   "metadata": {},
   "outputs": [],
   "source": [
    "df = pd.read_excel(\"cantonS Time Blocks_Turn Angle.xlsx\")\n",
    "df.columns = df.columns.str.replace(\" \", \"_\")"
   ]
  },
  {
   "cell_type": "code",
   "execution_count": 21,
   "metadata": {},
   "outputs": [
    {
     "data": {
      "text/html": [
       "<div>\n",
       "<style scoped>\n",
       "    .dataframe tbody tr th:only-of-type {\n",
       "        vertical-align: middle;\n",
       "    }\n",
       "\n",
       "    .dataframe tbody tr th {\n",
       "        vertical-align: top;\n",
       "    }\n",
       "\n",
       "    .dataframe thead th {\n",
       "        text-align: right;\n",
       "    }\n",
       "</style>\n",
       "<table border=\"1\" class=\"dataframe\">\n",
       "  <thead>\n",
       "    <tr style=\"text-align: right;\">\n",
       "      <th></th>\n",
       "      <th>Fly_Type</th>\n",
       "      <th>Period</th>\n",
       "      <th>Turn_Angle</th>\n",
       "    </tr>\n",
       "  </thead>\n",
       "  <tbody>\n",
       "    <tr>\n",
       "      <td>0</td>\n",
       "      <td>cantonS</td>\n",
       "      <td>0 - 2.5 mins</td>\n",
       "      <td>0.00000</td>\n",
       "    </tr>\n",
       "    <tr>\n",
       "      <td>1</td>\n",
       "      <td>cantonS</td>\n",
       "      <td>0 - 2.5 mins</td>\n",
       "      <td>0.47300</td>\n",
       "    </tr>\n",
       "    <tr>\n",
       "      <td>2</td>\n",
       "      <td>cantonS</td>\n",
       "      <td>0 - 2.5 mins</td>\n",
       "      <td>0.41351</td>\n",
       "    </tr>\n",
       "    <tr>\n",
       "      <td>3</td>\n",
       "      <td>cantonS</td>\n",
       "      <td>0 - 2.5 mins</td>\n",
       "      <td>1.42849</td>\n",
       "    </tr>\n",
       "    <tr>\n",
       "      <td>4</td>\n",
       "      <td>cantonS</td>\n",
       "      <td>0 - 2.5 mins</td>\n",
       "      <td>0.30995</td>\n",
       "    </tr>\n",
       "    <tr>\n",
       "      <td>...</td>\n",
       "      <td>...</td>\n",
       "      <td>...</td>\n",
       "      <td>...</td>\n",
       "    </tr>\n",
       "    <tr>\n",
       "      <td>595</td>\n",
       "      <td>cantonS</td>\n",
       "      <td>7.5 - 10 mins</td>\n",
       "      <td>3.01412</td>\n",
       "    </tr>\n",
       "    <tr>\n",
       "      <td>596</td>\n",
       "      <td>cantonS</td>\n",
       "      <td>7.5 - 10 mins</td>\n",
       "      <td>2.79098</td>\n",
       "    </tr>\n",
       "    <tr>\n",
       "      <td>597</td>\n",
       "      <td>cantonS</td>\n",
       "      <td>7.5 - 10 mins</td>\n",
       "      <td>2.53592</td>\n",
       "    </tr>\n",
       "    <tr>\n",
       "      <td>598</td>\n",
       "      <td>cantonS</td>\n",
       "      <td>7.5 - 10 mins</td>\n",
       "      <td>1.10058</td>\n",
       "    </tr>\n",
       "    <tr>\n",
       "      <td>599</td>\n",
       "      <td>cantonS</td>\n",
       "      <td>7.5 - 10 mins</td>\n",
       "      <td>0.00000</td>\n",
       "    </tr>\n",
       "  </tbody>\n",
       "</table>\n",
       "<p>600 rows × 3 columns</p>\n",
       "</div>"
      ],
      "text/plain": [
       "    Fly_Type         Period  Turn_Angle\n",
       "0    cantonS   0 - 2.5 mins     0.00000\n",
       "1    cantonS   0 - 2.5 mins     0.47300\n",
       "2    cantonS   0 - 2.5 mins     0.41351\n",
       "3    cantonS   0 - 2.5 mins     1.42849\n",
       "4    cantonS   0 - 2.5 mins     0.30995\n",
       "..       ...            ...         ...\n",
       "595  cantonS  7.5 - 10 mins     3.01412\n",
       "596  cantonS  7.5 - 10 mins     2.79098\n",
       "597  cantonS  7.5 - 10 mins     2.53592\n",
       "598  cantonS  7.5 - 10 mins     1.10058\n",
       "599  cantonS  7.5 - 10 mins     0.00000\n",
       "\n",
       "[600 rows x 3 columns]"
      ]
     },
     "execution_count": 21,
     "metadata": {},
     "output_type": "execute_result"
    }
   ],
   "source": [
    "df"
   ]
  },
  {
   "cell_type": "code",
   "execution_count": 22,
   "metadata": {},
   "outputs": [
    {
     "name": "stdout",
     "output_type": "stream",
     "text": [
      "              sum_sq     df          F        PR(>F)\n",
      "Period    142.276300    3.0  50.366663  5.039793e-29\n",
      "Residual  561.195773  596.0        NaN           NaN\n"
     ]
    }
   ],
   "source": [
    "mod = ols(\"Turn_Angle ~ Period\",data=df).fit()               \n",
    "aov_table = sm.stats.anova_lm(mod, typ=2)\n",
    "print(aov_table)"
   ]
  },
  {
   "cell_type": "code",
   "execution_count": 23,
   "metadata": {},
   "outputs": [
    {
     "data": {
      "text/html": [
       "<table class=\"simpletable\">\n",
       "<caption>OLS Regression Results</caption>\n",
       "<tr>\n",
       "  <th>Dep. Variable:</th>       <td>Turn_Angle</td>    <th>  R-squared:         </th> <td>   0.202</td>\n",
       "</tr>\n",
       "<tr>\n",
       "  <th>Model:</th>                   <td>OLS</td>       <th>  Adj. R-squared:    </th> <td>   0.198</td>\n",
       "</tr>\n",
       "<tr>\n",
       "  <th>Method:</th>             <td>Least Squares</td>  <th>  F-statistic:       </th> <td>   50.37</td>\n",
       "</tr>\n",
       "<tr>\n",
       "  <th>Date:</th>             <td>Wed, 21 Apr 2021</td> <th>  Prob (F-statistic):</th> <td>5.04e-29</td>\n",
       "</tr>\n",
       "<tr>\n",
       "  <th>Time:</th>                 <td>23:38:42</td>     <th>  Log-Likelihood:    </th> <td> -831.31</td>\n",
       "</tr>\n",
       "<tr>\n",
       "  <th>No. Observations:</th>      <td>   600</td>      <th>  AIC:               </th> <td>   1671.</td>\n",
       "</tr>\n",
       "<tr>\n",
       "  <th>Df Residuals:</th>          <td>   596</td>      <th>  BIC:               </th> <td>   1688.</td>\n",
       "</tr>\n",
       "<tr>\n",
       "  <th>Df Model:</th>              <td>     3</td>      <th>                     </th>     <td> </td>   \n",
       "</tr>\n",
       "<tr>\n",
       "  <th>Covariance Type:</th>      <td>nonrobust</td>    <th>                     </th>     <td> </td>   \n",
       "</tr>\n",
       "</table>\n",
       "<table class=\"simpletable\">\n",
       "<tr>\n",
       "             <td></td>                <th>coef</th>     <th>std err</th>      <th>t</th>      <th>P>|t|</th>  <th>[0.025</th>    <th>0.975]</th>  \n",
       "</tr>\n",
       "<tr>\n",
       "  <th>Intercept</th>               <td>    0.7601</td> <td>    0.079</td> <td>    9.594</td> <td> 0.000</td> <td>    0.604</td> <td>    0.916</td>\n",
       "</tr>\n",
       "<tr>\n",
       "  <th>Period[T.2.5 - 5 mins]</th>  <td>    0.3732</td> <td>    0.112</td> <td>    3.331</td> <td> 0.001</td> <td>    0.153</td> <td>    0.593</td>\n",
       "</tr>\n",
       "<tr>\n",
       "  <th>Period[T.5 - 7.5mins]</th>   <td>    1.0162</td> <td>    0.112</td> <td>    9.069</td> <td> 0.000</td> <td>    0.796</td> <td>    1.236</td>\n",
       "</tr>\n",
       "<tr>\n",
       "  <th>Period[T.7.5 - 10 mins]</th> <td>    1.2115</td> <td>    0.112</td> <td>   10.813</td> <td> 0.000</td> <td>    0.991</td> <td>    1.432</td>\n",
       "</tr>\n",
       "</table>\n",
       "<table class=\"simpletable\">\n",
       "<tr>\n",
       "  <th>Omnibus:</th>       <td>29.491</td> <th>  Durbin-Watson:     </th> <td>   1.585</td>\n",
       "</tr>\n",
       "<tr>\n",
       "  <th>Prob(Omnibus):</th> <td> 0.000</td> <th>  Jarque-Bera (JB):  </th> <td>  13.392</td>\n",
       "</tr>\n",
       "<tr>\n",
       "  <th>Skew:</th>          <td> 0.125</td> <th>  Prob(JB):          </th> <td> 0.00124</td>\n",
       "</tr>\n",
       "<tr>\n",
       "  <th>Kurtosis:</th>      <td> 2.312</td> <th>  Cond. No.          </th> <td>    4.79</td>\n",
       "</tr>\n",
       "</table><br/><br/>Warnings:<br/>[1] Standard Errors assume that the covariance matrix of the errors is correctly specified."
      ],
      "text/plain": [
       "<class 'statsmodels.iolib.summary.Summary'>\n",
       "\"\"\"\n",
       "                            OLS Regression Results                            \n",
       "==============================================================================\n",
       "Dep. Variable:             Turn_Angle   R-squared:                       0.202\n",
       "Model:                            OLS   Adj. R-squared:                  0.198\n",
       "Method:                 Least Squares   F-statistic:                     50.37\n",
       "Date:                Wed, 21 Apr 2021   Prob (F-statistic):           5.04e-29\n",
       "Time:                        23:38:42   Log-Likelihood:                -831.31\n",
       "No. Observations:                 600   AIC:                             1671.\n",
       "Df Residuals:                     596   BIC:                             1688.\n",
       "Df Model:                           3                                         \n",
       "Covariance Type:            nonrobust                                         \n",
       "===========================================================================================\n",
       "                              coef    std err          t      P>|t|      [0.025      0.975]\n",
       "-------------------------------------------------------------------------------------------\n",
       "Intercept                   0.7601      0.079      9.594      0.000       0.604       0.916\n",
       "Period[T.2.5 - 5 mins]      0.3732      0.112      3.331      0.001       0.153       0.593\n",
       "Period[T.5 - 7.5mins]       1.0162      0.112      9.069      0.000       0.796       1.236\n",
       "Period[T.7.5 - 10 mins]     1.2115      0.112     10.813      0.000       0.991       1.432\n",
       "==============================================================================\n",
       "Omnibus:                       29.491   Durbin-Watson:                   1.585\n",
       "Prob(Omnibus):                  0.000   Jarque-Bera (JB):               13.392\n",
       "Skew:                           0.125   Prob(JB):                      0.00124\n",
       "Kurtosis:                       2.312   Cond. No.                         4.79\n",
       "==============================================================================\n",
       "\n",
       "Warnings:\n",
       "[1] Standard Errors assume that the covariance matrix of the errors is correctly specified.\n",
       "\"\"\""
      ]
     },
     "execution_count": 23,
     "metadata": {},
     "output_type": "execute_result"
    }
   ],
   "source": [
    "model = ols(\"Turn_Angle ~ Period\", data=df).fit()\n",
    "model.summary()"
   ]
  },
  {
   "cell_type": "markdown",
   "metadata": {},
   "source": [
    "## Is the Distance affected by Time ?"
   ]
  },
  {
   "cell_type": "code",
   "execution_count": 25,
   "metadata": {},
   "outputs": [],
   "source": [
    "df = pd.read_excel(\"cantonS Time Blocks_Distance.xlsx\")"
   ]
  },
  {
   "cell_type": "code",
   "execution_count": 26,
   "metadata": {},
   "outputs": [
    {
     "name": "stdout",
     "output_type": "stream",
     "text": [
      "              sum_sq     df           F        PR(>F)\n",
      "Period     69.195384    3.0  124.544122  1.255019e-62\n",
      "Residual  110.377078  596.0         NaN           NaN\n"
     ]
    }
   ],
   "source": [
    "mod = ols(\"Distance ~ Period\",data=df).fit()               \n",
    "aov_table = sm.stats.anova_lm(mod, typ=2)\n",
    "print(aov_table)"
   ]
  },
  {
   "cell_type": "code",
   "execution_count": 27,
   "metadata": {},
   "outputs": [
    {
     "data": {
      "text/html": [
       "<table class=\"simpletable\">\n",
       "<caption>OLS Regression Results</caption>\n",
       "<tr>\n",
       "  <th>Dep. Variable:</th>        <td>Distance</td>     <th>  R-squared:         </th> <td>   0.385</td>\n",
       "</tr>\n",
       "<tr>\n",
       "  <th>Model:</th>                   <td>OLS</td>       <th>  Adj. R-squared:    </th> <td>   0.382</td>\n",
       "</tr>\n",
       "<tr>\n",
       "  <th>Method:</th>             <td>Least Squares</td>  <th>  F-statistic:       </th> <td>   124.5</td>\n",
       "</tr>\n",
       "<tr>\n",
       "  <th>Date:</th>             <td>Wed, 21 Apr 2021</td> <th>  Prob (F-statistic):</th> <td>1.26e-62</td>\n",
       "</tr>\n",
       "<tr>\n",
       "  <th>Time:</th>                 <td>23:39:27</td>     <th>  Log-Likelihood:    </th> <td> -343.45</td>\n",
       "</tr>\n",
       "<tr>\n",
       "  <th>No. Observations:</th>      <td>   600</td>      <th>  AIC:               </th> <td>   694.9</td>\n",
       "</tr>\n",
       "<tr>\n",
       "  <th>Df Residuals:</th>          <td>   596</td>      <th>  BIC:               </th> <td>   712.5</td>\n",
       "</tr>\n",
       "<tr>\n",
       "  <th>Df Model:</th>              <td>     3</td>      <th>                     </th>     <td> </td>   \n",
       "</tr>\n",
       "<tr>\n",
       "  <th>Covariance Type:</th>      <td>nonrobust</td>    <th>                     </th>     <td> </td>   \n",
       "</tr>\n",
       "</table>\n",
       "<table class=\"simpletable\">\n",
       "<tr>\n",
       "             <td></td>                <th>coef</th>     <th>std err</th>      <th>t</th>      <th>P>|t|</th>  <th>[0.025</th>    <th>0.975]</th>  \n",
       "</tr>\n",
       "<tr>\n",
       "  <th>Intercept</th>               <td>    0.8321</td> <td>    0.035</td> <td>   23.680</td> <td> 0.000</td> <td>    0.763</td> <td>    0.901</td>\n",
       "</tr>\n",
       "<tr>\n",
       "  <th>Period[T.2.5 - 5 mins]</th>  <td>   -0.4532</td> <td>    0.050</td> <td>   -9.119</td> <td> 0.000</td> <td>   -0.551</td> <td>   -0.356</td>\n",
       "</tr>\n",
       "<tr>\n",
       "  <th>Period[T.5 - 7.5mins]</th>   <td>   -0.8264</td> <td>    0.050</td> <td>  -16.630</td> <td> 0.000</td> <td>   -0.924</td> <td>   -0.729</td>\n",
       "</tr>\n",
       "<tr>\n",
       "  <th>Period[T.7.5 - 10 mins]</th> <td>   -0.8245</td> <td>    0.050</td> <td>  -16.592</td> <td> 0.000</td> <td>   -0.922</td> <td>   -0.727</td>\n",
       "</tr>\n",
       "</table>\n",
       "<table class=\"simpletable\">\n",
       "<tr>\n",
       "  <th>Omnibus:</th>       <td>114.757</td> <th>  Durbin-Watson:     </th> <td>   0.686</td>\n",
       "</tr>\n",
       "<tr>\n",
       "  <th>Prob(Omnibus):</th> <td> 0.000</td>  <th>  Jarque-Bera (JB):  </th> <td> 249.726</td>\n",
       "</tr>\n",
       "<tr>\n",
       "  <th>Skew:</th>          <td> 1.032</td>  <th>  Prob(JB):          </th> <td>5.92e-55</td>\n",
       "</tr>\n",
       "<tr>\n",
       "  <th>Kurtosis:</th>      <td> 5.394</td>  <th>  Cond. No.          </th> <td>    4.79</td>\n",
       "</tr>\n",
       "</table><br/><br/>Warnings:<br/>[1] Standard Errors assume that the covariance matrix of the errors is correctly specified."
      ],
      "text/plain": [
       "<class 'statsmodels.iolib.summary.Summary'>\n",
       "\"\"\"\n",
       "                            OLS Regression Results                            \n",
       "==============================================================================\n",
       "Dep. Variable:               Distance   R-squared:                       0.385\n",
       "Model:                            OLS   Adj. R-squared:                  0.382\n",
       "Method:                 Least Squares   F-statistic:                     124.5\n",
       "Date:                Wed, 21 Apr 2021   Prob (F-statistic):           1.26e-62\n",
       "Time:                        23:39:27   Log-Likelihood:                -343.45\n",
       "No. Observations:                 600   AIC:                             694.9\n",
       "Df Residuals:                     596   BIC:                             712.5\n",
       "Df Model:                           3                                         \n",
       "Covariance Type:            nonrobust                                         \n",
       "===========================================================================================\n",
       "                              coef    std err          t      P>|t|      [0.025      0.975]\n",
       "-------------------------------------------------------------------------------------------\n",
       "Intercept                   0.8321      0.035     23.680      0.000       0.763       0.901\n",
       "Period[T.2.5 - 5 mins]     -0.4532      0.050     -9.119      0.000      -0.551      -0.356\n",
       "Period[T.5 - 7.5mins]      -0.8264      0.050    -16.630      0.000      -0.924      -0.729\n",
       "Period[T.7.5 - 10 mins]    -0.8245      0.050    -16.592      0.000      -0.922      -0.727\n",
       "==============================================================================\n",
       "Omnibus:                      114.757   Durbin-Watson:                   0.686\n",
       "Prob(Omnibus):                  0.000   Jarque-Bera (JB):              249.726\n",
       "Skew:                           1.032   Prob(JB):                     5.92e-55\n",
       "Kurtosis:                       5.394   Cond. No.                         4.79\n",
       "==============================================================================\n",
       "\n",
       "Warnings:\n",
       "[1] Standard Errors assume that the covariance matrix of the errors is correctly specified.\n",
       "\"\"\""
      ]
     },
     "execution_count": 27,
     "metadata": {},
     "output_type": "execute_result"
    }
   ],
   "source": [
    "model = ols(\"Distance ~ Period\", data=df).fit()\n",
    "model.summary()"
   ]
  },
  {
   "cell_type": "markdown",
   "metadata": {},
   "source": [
    "# norpA7"
   ]
  },
  {
   "cell_type": "markdown",
   "metadata": {},
   "source": [
    "## Is the Turn Angle affected by Time ?"
   ]
  },
  {
   "cell_type": "code",
   "execution_count": 33,
   "metadata": {},
   "outputs": [],
   "source": [
    "df = pd.read_excel(\"norpA7 Time Blocks_Turn Angle.xlsx\")\n",
    "df.columns = df.columns.str.replace(\" \", \"_\")"
   ]
  },
  {
   "cell_type": "code",
   "execution_count": 34,
   "metadata": {},
   "outputs": [
    {
     "name": "stdout",
     "output_type": "stream",
     "text": [
      "              sum_sq     df         F    PR(>F)\n",
      "Period     11.789348    3.0  4.008085  0.007682\n",
      "Residual  584.356501  596.0       NaN       NaN\n"
     ]
    }
   ],
   "source": [
    "mod = ols(\"Turn_Angle ~ Period\",data=df).fit()               \n",
    "aov_table = sm.stats.anova_lm(mod, typ=2)\n",
    "print(aov_table)"
   ]
  },
  {
   "cell_type": "code",
   "execution_count": 35,
   "metadata": {},
   "outputs": [
    {
     "data": {
      "text/html": [
       "<table class=\"simpletable\">\n",
       "<caption>OLS Regression Results</caption>\n",
       "<tr>\n",
       "  <th>Dep. Variable:</th>       <td>Turn_Angle</td>    <th>  R-squared:         </th> <td>   0.020</td>\n",
       "</tr>\n",
       "<tr>\n",
       "  <th>Model:</th>                   <td>OLS</td>       <th>  Adj. R-squared:    </th> <td>   0.015</td>\n",
       "</tr>\n",
       "<tr>\n",
       "  <th>Method:</th>             <td>Least Squares</td>  <th>  F-statistic:       </th> <td>   4.008</td>\n",
       "</tr>\n",
       "<tr>\n",
       "  <th>Date:</th>             <td>Wed, 21 Apr 2021</td> <th>  Prob (F-statistic):</th>  <td>0.00768</td>\n",
       "</tr>\n",
       "<tr>\n",
       "  <th>Time:</th>                 <td>23:42:36</td>     <th>  Log-Likelihood:    </th> <td> -843.44</td>\n",
       "</tr>\n",
       "<tr>\n",
       "  <th>No. Observations:</th>      <td>   600</td>      <th>  AIC:               </th> <td>   1695.</td>\n",
       "</tr>\n",
       "<tr>\n",
       "  <th>Df Residuals:</th>          <td>   596</td>      <th>  BIC:               </th> <td>   1712.</td>\n",
       "</tr>\n",
       "<tr>\n",
       "  <th>Df Model:</th>              <td>     3</td>      <th>                     </th>     <td> </td>   \n",
       "</tr>\n",
       "<tr>\n",
       "  <th>Covariance Type:</th>      <td>nonrobust</td>    <th>                     </th>     <td> </td>   \n",
       "</tr>\n",
       "</table>\n",
       "<table class=\"simpletable\">\n",
       "<tr>\n",
       "             <td></td>                <th>coef</th>     <th>std err</th>      <th>t</th>      <th>P>|t|</th>  <th>[0.025</th>    <th>0.975]</th>  \n",
       "</tr>\n",
       "<tr>\n",
       "  <th>Intercept</th>               <td>    1.0222</td> <td>    0.081</td> <td>   12.643</td> <td> 0.000</td> <td>    0.863</td> <td>    1.181</td>\n",
       "</tr>\n",
       "<tr>\n",
       "  <th>Period[T.2.5 - 5 mins]</th>  <td>   -0.1852</td> <td>    0.114</td> <td>   -1.620</td> <td> 0.106</td> <td>   -0.410</td> <td>    0.039</td>\n",
       "</tr>\n",
       "<tr>\n",
       "  <th>Period[T.5 - 7.5mins]</th>   <td>   -0.2228</td> <td>    0.114</td> <td>   -1.949</td> <td> 0.052</td> <td>   -0.447</td> <td>    0.002</td>\n",
       "</tr>\n",
       "<tr>\n",
       "  <th>Period[T.7.5 - 10 mins]</th> <td>    0.1226</td> <td>    0.114</td> <td>    1.072</td> <td> 0.284</td> <td>   -0.102</td> <td>    0.347</td>\n",
       "</tr>\n",
       "</table>\n",
       "<table class=\"simpletable\">\n",
       "<tr>\n",
       "  <th>Omnibus:</th>       <td>75.128</td> <th>  Durbin-Watson:     </th> <td>   1.359</td>\n",
       "</tr>\n",
       "<tr>\n",
       "  <th>Prob(Omnibus):</th> <td> 0.000</td> <th>  Jarque-Bera (JB):  </th> <td>  89.573</td>\n",
       "</tr>\n",
       "<tr>\n",
       "  <th>Skew:</th>          <td> 0.911</td> <th>  Prob(JB):          </th> <td>3.54e-20</td>\n",
       "</tr>\n",
       "<tr>\n",
       "  <th>Kurtosis:</th>      <td> 2.484</td> <th>  Cond. No.          </th> <td>    4.79</td>\n",
       "</tr>\n",
       "</table><br/><br/>Warnings:<br/>[1] Standard Errors assume that the covariance matrix of the errors is correctly specified."
      ],
      "text/plain": [
       "<class 'statsmodels.iolib.summary.Summary'>\n",
       "\"\"\"\n",
       "                            OLS Regression Results                            \n",
       "==============================================================================\n",
       "Dep. Variable:             Turn_Angle   R-squared:                       0.020\n",
       "Model:                            OLS   Adj. R-squared:                  0.015\n",
       "Method:                 Least Squares   F-statistic:                     4.008\n",
       "Date:                Wed, 21 Apr 2021   Prob (F-statistic):            0.00768\n",
       "Time:                        23:42:36   Log-Likelihood:                -843.44\n",
       "No. Observations:                 600   AIC:                             1695.\n",
       "Df Residuals:                     596   BIC:                             1712.\n",
       "Df Model:                           3                                         \n",
       "Covariance Type:            nonrobust                                         \n",
       "===========================================================================================\n",
       "                              coef    std err          t      P>|t|      [0.025      0.975]\n",
       "-------------------------------------------------------------------------------------------\n",
       "Intercept                   1.0222      0.081     12.643      0.000       0.863       1.181\n",
       "Period[T.2.5 - 5 mins]     -0.1852      0.114     -1.620      0.106      -0.410       0.039\n",
       "Period[T.5 - 7.5mins]      -0.2228      0.114     -1.949      0.052      -0.447       0.002\n",
       "Period[T.7.5 - 10 mins]     0.1226      0.114      1.072      0.284      -0.102       0.347\n",
       "==============================================================================\n",
       "Omnibus:                       75.128   Durbin-Watson:                   1.359\n",
       "Prob(Omnibus):                  0.000   Jarque-Bera (JB):               89.573\n",
       "Skew:                           0.911   Prob(JB):                     3.54e-20\n",
       "Kurtosis:                       2.484   Cond. No.                         4.79\n",
       "==============================================================================\n",
       "\n",
       "Warnings:\n",
       "[1] Standard Errors assume that the covariance matrix of the errors is correctly specified.\n",
       "\"\"\""
      ]
     },
     "execution_count": 35,
     "metadata": {},
     "output_type": "execute_result"
    }
   ],
   "source": [
    "model = ols(\"Turn_Angle ~ Period\", data=df).fit()\n",
    "model.summary()"
   ]
  },
  {
   "cell_type": "markdown",
   "metadata": {},
   "source": [
    "## Is the Distance affected by Time ?"
   ]
  },
  {
   "cell_type": "code",
   "execution_count": 36,
   "metadata": {},
   "outputs": [],
   "source": [
    "df = pd.read_excel(\"norpA7 Time Blocks_Distance.xlsx\")"
   ]
  },
  {
   "cell_type": "code",
   "execution_count": 37,
   "metadata": {},
   "outputs": [
    {
     "name": "stdout",
     "output_type": "stream",
     "text": [
      "              sum_sq     df          F        PR(>F)\n",
      "Period     11.903118    3.0  21.214888  4.549592e-13\n",
      "Residual  111.466657  596.0        NaN           NaN\n"
     ]
    }
   ],
   "source": [
    "mod = ols(\"Distance ~ Period\",data=df).fit()               \n",
    "aov_table = sm.stats.anova_lm(mod, typ=2)\n",
    "print(aov_table)"
   ]
  },
  {
   "cell_type": "code",
   "execution_count": 38,
   "metadata": {},
   "outputs": [
    {
     "data": {
      "text/html": [
       "<table class=\"simpletable\">\n",
       "<caption>OLS Regression Results</caption>\n",
       "<tr>\n",
       "  <th>Dep. Variable:</th>        <td>Distance</td>     <th>  R-squared:         </th> <td>   0.096</td>\n",
       "</tr>\n",
       "<tr>\n",
       "  <th>Model:</th>                   <td>OLS</td>       <th>  Adj. R-squared:    </th> <td>   0.092</td>\n",
       "</tr>\n",
       "<tr>\n",
       "  <th>Method:</th>             <td>Least Squares</td>  <th>  F-statistic:       </th> <td>   21.21</td>\n",
       "</tr>\n",
       "<tr>\n",
       "  <th>Date:</th>             <td>Wed, 21 Apr 2021</td> <th>  Prob (F-statistic):</th> <td>4.55e-13</td>\n",
       "</tr>\n",
       "<tr>\n",
       "  <th>Time:</th>                 <td>23:44:30</td>     <th>  Log-Likelihood:    </th> <td> -346.40</td>\n",
       "</tr>\n",
       "<tr>\n",
       "  <th>No. Observations:</th>      <td>   600</td>      <th>  AIC:               </th> <td>   700.8</td>\n",
       "</tr>\n",
       "<tr>\n",
       "  <th>Df Residuals:</th>          <td>   596</td>      <th>  BIC:               </th> <td>   718.4</td>\n",
       "</tr>\n",
       "<tr>\n",
       "  <th>Df Model:</th>              <td>     3</td>      <th>                     </th>     <td> </td>   \n",
       "</tr>\n",
       "<tr>\n",
       "  <th>Covariance Type:</th>      <td>nonrobust</td>    <th>                     </th>     <td> </td>   \n",
       "</tr>\n",
       "</table>\n",
       "<table class=\"simpletable\">\n",
       "<tr>\n",
       "             <td></td>                <th>coef</th>     <th>std err</th>      <th>t</th>      <th>P>|t|</th>  <th>[0.025</th>    <th>0.975]</th>  \n",
       "</tr>\n",
       "<tr>\n",
       "  <th>Intercept</th>               <td>    0.6198</td> <td>    0.035</td> <td>   17.553</td> <td> 0.000</td> <td>    0.550</td> <td>    0.689</td>\n",
       "</tr>\n",
       "<tr>\n",
       "  <th>Period[T.2.5 - 5 mins]</th>  <td>   -0.1159</td> <td>    0.050</td> <td>   -2.321</td> <td> 0.021</td> <td>   -0.214</td> <td>   -0.018</td>\n",
       "</tr>\n",
       "<tr>\n",
       "  <th>Period[T.5 - 7.5mins]</th>   <td>   -0.2016</td> <td>    0.050</td> <td>   -4.036</td> <td> 0.000</td> <td>   -0.300</td> <td>   -0.103</td>\n",
       "</tr>\n",
       "<tr>\n",
       "  <th>Period[T.7.5 - 10 mins]</th> <td>   -0.3860</td> <td>    0.050</td> <td>   -7.730</td> <td> 0.000</td> <td>   -0.484</td> <td>   -0.288</td>\n",
       "</tr>\n",
       "</table>\n",
       "<table class=\"simpletable\">\n",
       "<tr>\n",
       "  <th>Omnibus:</th>       <td>34.335</td> <th>  Durbin-Watson:     </th> <td>   0.497</td>\n",
       "</tr>\n",
       "<tr>\n",
       "  <th>Prob(Omnibus):</th> <td> 0.000</td> <th>  Jarque-Bera (JB):  </th> <td>  31.050</td>\n",
       "</tr>\n",
       "<tr>\n",
       "  <th>Skew:</th>          <td> 0.492</td> <th>  Prob(JB):          </th> <td>1.81e-07</td>\n",
       "</tr>\n",
       "<tr>\n",
       "  <th>Kurtosis:</th>      <td> 2.478</td> <th>  Cond. No.          </th> <td>    4.79</td>\n",
       "</tr>\n",
       "</table><br/><br/>Warnings:<br/>[1] Standard Errors assume that the covariance matrix of the errors is correctly specified."
      ],
      "text/plain": [
       "<class 'statsmodels.iolib.summary.Summary'>\n",
       "\"\"\"\n",
       "                            OLS Regression Results                            \n",
       "==============================================================================\n",
       "Dep. Variable:               Distance   R-squared:                       0.096\n",
       "Model:                            OLS   Adj. R-squared:                  0.092\n",
       "Method:                 Least Squares   F-statistic:                     21.21\n",
       "Date:                Wed, 21 Apr 2021   Prob (F-statistic):           4.55e-13\n",
       "Time:                        23:44:30   Log-Likelihood:                -346.40\n",
       "No. Observations:                 600   AIC:                             700.8\n",
       "Df Residuals:                     596   BIC:                             718.4\n",
       "Df Model:                           3                                         \n",
       "Covariance Type:            nonrobust                                         \n",
       "===========================================================================================\n",
       "                              coef    std err          t      P>|t|      [0.025      0.975]\n",
       "-------------------------------------------------------------------------------------------\n",
       "Intercept                   0.6198      0.035     17.553      0.000       0.550       0.689\n",
       "Period[T.2.5 - 5 mins]     -0.1159      0.050     -2.321      0.021      -0.214      -0.018\n",
       "Period[T.5 - 7.5mins]      -0.2016      0.050     -4.036      0.000      -0.300      -0.103\n",
       "Period[T.7.5 - 10 mins]    -0.3860      0.050     -7.730      0.000      -0.484      -0.288\n",
       "==============================================================================\n",
       "Omnibus:                       34.335   Durbin-Watson:                   0.497\n",
       "Prob(Omnibus):                  0.000   Jarque-Bera (JB):               31.050\n",
       "Skew:                           0.492   Prob(JB):                     1.81e-07\n",
       "Kurtosis:                       2.478   Cond. No.                         4.79\n",
       "==============================================================================\n",
       "\n",
       "Warnings:\n",
       "[1] Standard Errors assume that the covariance matrix of the errors is correctly specified.\n",
       "\"\"\""
      ]
     },
     "execution_count": 38,
     "metadata": {},
     "output_type": "execute_result"
    }
   ],
   "source": [
    "model = ols(\"Distance ~ Period\", data=df).fit()\n",
    "model.summary()"
   ]
  },
  {
   "cell_type": "markdown",
   "metadata": {},
   "source": [
    "# rutabaga"
   ]
  },
  {
   "cell_type": "markdown",
   "metadata": {},
   "source": [
    "## Is the Turn Angle affected by Time ?"
   ]
  },
  {
   "cell_type": "code",
   "execution_count": 39,
   "metadata": {},
   "outputs": [],
   "source": [
    "df = pd.read_excel(\"rutabaga Time Blocks_Turn Angle.xlsx\")\n",
    "df.columns = df.columns.str.replace(\" \", \"_\")"
   ]
  },
  {
   "cell_type": "code",
   "execution_count": 40,
   "metadata": {},
   "outputs": [
    {
     "name": "stdout",
     "output_type": "stream",
     "text": [
      "              sum_sq     df          F        PR(>F)\n",
      "Period     93.668675    3.0  22.932517  4.630760e-14\n",
      "Residual  811.461014  596.0        NaN           NaN\n"
     ]
    }
   ],
   "source": [
    "mod = ols(\"Turn_Angle ~ Period\",data=df).fit()               \n",
    "aov_table = sm.stats.anova_lm(mod, typ=2)\n",
    "print(aov_table)"
   ]
  },
  {
   "cell_type": "code",
   "execution_count": 41,
   "metadata": {},
   "outputs": [
    {
     "data": {
      "text/html": [
       "<table class=\"simpletable\">\n",
       "<caption>OLS Regression Results</caption>\n",
       "<tr>\n",
       "  <th>Dep. Variable:</th>       <td>Turn_Angle</td>    <th>  R-squared:         </th> <td>   0.103</td>\n",
       "</tr>\n",
       "<tr>\n",
       "  <th>Model:</th>                   <td>OLS</td>       <th>  Adj. R-squared:    </th> <td>   0.099</td>\n",
       "</tr>\n",
       "<tr>\n",
       "  <th>Method:</th>             <td>Least Squares</td>  <th>  F-statistic:       </th> <td>   22.93</td>\n",
       "</tr>\n",
       "<tr>\n",
       "  <th>Date:</th>             <td>Thu, 22 Apr 2021</td> <th>  Prob (F-statistic):</th> <td>4.63e-14</td>\n",
       "</tr>\n",
       "<tr>\n",
       "  <th>Time:</th>                 <td>00:09:39</td>     <th>  Log-Likelihood:    </th> <td> -941.94</td>\n",
       "</tr>\n",
       "<tr>\n",
       "  <th>No. Observations:</th>      <td>   600</td>      <th>  AIC:               </th> <td>   1892.</td>\n",
       "</tr>\n",
       "<tr>\n",
       "  <th>Df Residuals:</th>          <td>   596</td>      <th>  BIC:               </th> <td>   1909.</td>\n",
       "</tr>\n",
       "<tr>\n",
       "  <th>Df Model:</th>              <td>     3</td>      <th>                     </th>     <td> </td>   \n",
       "</tr>\n",
       "<tr>\n",
       "  <th>Covariance Type:</th>      <td>nonrobust</td>    <th>                     </th>     <td> </td>   \n",
       "</tr>\n",
       "</table>\n",
       "<table class=\"simpletable\">\n",
       "<tr>\n",
       "             <td></td>                <th>coef</th>     <th>std err</th>      <th>t</th>      <th>P>|t|</th>  <th>[0.025</th>    <th>0.975]</th>  \n",
       "</tr>\n",
       "<tr>\n",
       "  <th>Intercept</th>               <td>    0.8578</td> <td>    0.095</td> <td>    9.004</td> <td> 0.000</td> <td>    0.671</td> <td>    1.045</td>\n",
       "</tr>\n",
       "<tr>\n",
       "  <th>Period[T.2.5 - 5 mins]</th>  <td>    1.0200</td> <td>    0.135</td> <td>    7.571</td> <td> 0.000</td> <td>    0.755</td> <td>    1.285</td>\n",
       "</tr>\n",
       "<tr>\n",
       "  <th>Period[T.5 - 7.5mins]</th>   <td>    0.8498</td> <td>    0.135</td> <td>    6.307</td> <td> 0.000</td> <td>    0.585</td> <td>    1.114</td>\n",
       "</tr>\n",
       "<tr>\n",
       "  <th>Period[T.7.5 - 10 mins]</th> <td>    0.8139</td> <td>    0.135</td> <td>    6.041</td> <td> 0.000</td> <td>    0.549</td> <td>    1.079</td>\n",
       "</tr>\n",
       "</table>\n",
       "<table class=\"simpletable\">\n",
       "<tr>\n",
       "  <th>Omnibus:</th>       <td>1173.262</td> <th>  Durbin-Watson:     </th> <td>   1.746</td>\n",
       "</tr>\n",
       "<tr>\n",
       "  <th>Prob(Omnibus):</th>  <td> 0.000</td>  <th>  Jarque-Bera (JB):  </th> <td>  43.508</td>\n",
       "</tr>\n",
       "<tr>\n",
       "  <th>Skew:</th>           <td>-0.076</td>  <th>  Prob(JB):          </th> <td>3.57e-10</td>\n",
       "</tr>\n",
       "<tr>\n",
       "  <th>Kurtosis:</th>       <td> 1.689</td>  <th>  Cond. No.          </th> <td>    4.79</td>\n",
       "</tr>\n",
       "</table><br/><br/>Warnings:<br/>[1] Standard Errors assume that the covariance matrix of the errors is correctly specified."
      ],
      "text/plain": [
       "<class 'statsmodels.iolib.summary.Summary'>\n",
       "\"\"\"\n",
       "                            OLS Regression Results                            \n",
       "==============================================================================\n",
       "Dep. Variable:             Turn_Angle   R-squared:                       0.103\n",
       "Model:                            OLS   Adj. R-squared:                  0.099\n",
       "Method:                 Least Squares   F-statistic:                     22.93\n",
       "Date:                Thu, 22 Apr 2021   Prob (F-statistic):           4.63e-14\n",
       "Time:                        00:09:39   Log-Likelihood:                -941.94\n",
       "No. Observations:                 600   AIC:                             1892.\n",
       "Df Residuals:                     596   BIC:                             1909.\n",
       "Df Model:                           3                                         \n",
       "Covariance Type:            nonrobust                                         \n",
       "===========================================================================================\n",
       "                              coef    std err          t      P>|t|      [0.025      0.975]\n",
       "-------------------------------------------------------------------------------------------\n",
       "Intercept                   0.8578      0.095      9.004      0.000       0.671       1.045\n",
       "Period[T.2.5 - 5 mins]      1.0200      0.135      7.571      0.000       0.755       1.285\n",
       "Period[T.5 - 7.5mins]       0.8498      0.135      6.307      0.000       0.585       1.114\n",
       "Period[T.7.5 - 10 mins]     0.8139      0.135      6.041      0.000       0.549       1.079\n",
       "==============================================================================\n",
       "Omnibus:                     1173.262   Durbin-Watson:                   1.746\n",
       "Prob(Omnibus):                  0.000   Jarque-Bera (JB):               43.508\n",
       "Skew:                          -0.076   Prob(JB):                     3.57e-10\n",
       "Kurtosis:                       1.689   Cond. No.                         4.79\n",
       "==============================================================================\n",
       "\n",
       "Warnings:\n",
       "[1] Standard Errors assume that the covariance matrix of the errors is correctly specified.\n",
       "\"\"\""
      ]
     },
     "execution_count": 41,
     "metadata": {},
     "output_type": "execute_result"
    }
   ],
   "source": [
    "model = ols(\"Turn_Angle ~ Period\", data=df).fit()\n",
    "model.summary()"
   ]
  },
  {
   "cell_type": "markdown",
   "metadata": {},
   "source": [
    "## Is the Distance affected by Time ?"
   ]
  },
  {
   "cell_type": "code",
   "execution_count": 42,
   "metadata": {},
   "outputs": [],
   "source": [
    "df = pd.read_excel(\"rutabaga Time Blocks_Distance.xlsx\")"
   ]
  },
  {
   "cell_type": "code",
   "execution_count": 43,
   "metadata": {},
   "outputs": [
    {
     "name": "stdout",
     "output_type": "stream",
     "text": [
      "             sum_sq     df         F        PR(>F)\n",
      "Period    10.775910    3.0  91.30923  1.253609e-48\n",
      "Residual  23.445759  596.0       NaN           NaN\n"
     ]
    }
   ],
   "source": [
    "mod = ols(\"Distance ~ Period\",data=df).fit()               \n",
    "aov_table = sm.stats.anova_lm(mod, typ=2)\n",
    "print(aov_table)"
   ]
  },
  {
   "cell_type": "code",
   "execution_count": 44,
   "metadata": {},
   "outputs": [
    {
     "data": {
      "text/html": [
       "<table class=\"simpletable\">\n",
       "<caption>OLS Regression Results</caption>\n",
       "<tr>\n",
       "  <th>Dep. Variable:</th>        <td>Distance</td>     <th>  R-squared:         </th> <td>   0.315</td>\n",
       "</tr>\n",
       "<tr>\n",
       "  <th>Model:</th>                   <td>OLS</td>       <th>  Adj. R-squared:    </th> <td>   0.311</td>\n",
       "</tr>\n",
       "<tr>\n",
       "  <th>Method:</th>             <td>Least Squares</td>  <th>  F-statistic:       </th> <td>   91.31</td>\n",
       "</tr>\n",
       "<tr>\n",
       "  <th>Date:</th>             <td>Thu, 22 Apr 2021</td> <th>  Prob (F-statistic):</th> <td>1.25e-48</td>\n",
       "</tr>\n",
       "<tr>\n",
       "  <th>Time:</th>                 <td>00:10:38</td>     <th>  Log-Likelihood:    </th> <td>  121.31</td>\n",
       "</tr>\n",
       "<tr>\n",
       "  <th>No. Observations:</th>      <td>   600</td>      <th>  AIC:               </th> <td>  -234.6</td>\n",
       "</tr>\n",
       "<tr>\n",
       "  <th>Df Residuals:</th>          <td>   596</td>      <th>  BIC:               </th> <td>  -217.0</td>\n",
       "</tr>\n",
       "<tr>\n",
       "  <th>Df Model:</th>              <td>     3</td>      <th>                     </th>     <td> </td>   \n",
       "</tr>\n",
       "<tr>\n",
       "  <th>Covariance Type:</th>      <td>nonrobust</td>    <th>                     </th>     <td> </td>   \n",
       "</tr>\n",
       "</table>\n",
       "<table class=\"simpletable\">\n",
       "<tr>\n",
       "             <td></td>                <th>coef</th>     <th>std err</th>      <th>t</th>      <th>P>|t|</th>  <th>[0.025</th>    <th>0.975]</th>  \n",
       "</tr>\n",
       "<tr>\n",
       "  <th>Intercept</th>               <td>    0.3309</td> <td>    0.016</td> <td>   20.434</td> <td> 0.000</td> <td>    0.299</td> <td>    0.363</td>\n",
       "</tr>\n",
       "<tr>\n",
       "  <th>Period[T.2.5 - 5 mins]</th>  <td>   -0.2884</td> <td>    0.023</td> <td>  -12.593</td> <td> 0.000</td> <td>   -0.333</td> <td>   -0.243</td>\n",
       "</tr>\n",
       "<tr>\n",
       "  <th>Period[T.5 - 7.5mins]</th>   <td>   -0.3173</td> <td>    0.023</td> <td>  -13.856</td> <td> 0.000</td> <td>   -0.362</td> <td>   -0.272</td>\n",
       "</tr>\n",
       "<tr>\n",
       "  <th>Period[T.7.5 - 10 mins]</th> <td>   -0.3189</td> <td>    0.023</td> <td>  -13.925</td> <td> 0.000</td> <td>   -0.364</td> <td>   -0.274</td>\n",
       "</tr>\n",
       "</table>\n",
       "<table class=\"simpletable\">\n",
       "<tr>\n",
       "  <th>Omnibus:</th>       <td>326.458</td> <th>  Durbin-Watson:     </th> <td>   0.693</td>\n",
       "</tr>\n",
       "<tr>\n",
       "  <th>Prob(Omnibus):</th> <td> 0.000</td>  <th>  Jarque-Bera (JB):  </th> <td>2886.125</td>\n",
       "</tr>\n",
       "<tr>\n",
       "  <th>Skew:</th>          <td> 2.264</td>  <th>  Prob(JB):          </th> <td>    0.00</td>\n",
       "</tr>\n",
       "<tr>\n",
       "  <th>Kurtosis:</th>      <td>12.744</td>  <th>  Cond. No.          </th> <td>    4.79</td>\n",
       "</tr>\n",
       "</table><br/><br/>Warnings:<br/>[1] Standard Errors assume that the covariance matrix of the errors is correctly specified."
      ],
      "text/plain": [
       "<class 'statsmodels.iolib.summary.Summary'>\n",
       "\"\"\"\n",
       "                            OLS Regression Results                            \n",
       "==============================================================================\n",
       "Dep. Variable:               Distance   R-squared:                       0.315\n",
       "Model:                            OLS   Adj. R-squared:                  0.311\n",
       "Method:                 Least Squares   F-statistic:                     91.31\n",
       "Date:                Thu, 22 Apr 2021   Prob (F-statistic):           1.25e-48\n",
       "Time:                        00:10:38   Log-Likelihood:                 121.31\n",
       "No. Observations:                 600   AIC:                            -234.6\n",
       "Df Residuals:                     596   BIC:                            -217.0\n",
       "Df Model:                           3                                         \n",
       "Covariance Type:            nonrobust                                         \n",
       "===========================================================================================\n",
       "                              coef    std err          t      P>|t|      [0.025      0.975]\n",
       "-------------------------------------------------------------------------------------------\n",
       "Intercept                   0.3309      0.016     20.434      0.000       0.299       0.363\n",
       "Period[T.2.5 - 5 mins]     -0.2884      0.023    -12.593      0.000      -0.333      -0.243\n",
       "Period[T.5 - 7.5mins]      -0.3173      0.023    -13.856      0.000      -0.362      -0.272\n",
       "Period[T.7.5 - 10 mins]    -0.3189      0.023    -13.925      0.000      -0.364      -0.274\n",
       "==============================================================================\n",
       "Omnibus:                      326.458   Durbin-Watson:                   0.693\n",
       "Prob(Omnibus):                  0.000   Jarque-Bera (JB):             2886.125\n",
       "Skew:                           2.264   Prob(JB):                         0.00\n",
       "Kurtosis:                      12.744   Cond. No.                         4.79\n",
       "==============================================================================\n",
       "\n",
       "Warnings:\n",
       "[1] Standard Errors assume that the covariance matrix of the errors is correctly specified.\n",
       "\"\"\""
      ]
     },
     "execution_count": 44,
     "metadata": {},
     "output_type": "execute_result"
    }
   ],
   "source": [
    "model = ols(\"Distance ~ Period\", data=df).fit()\n",
    "model.summary()"
   ]
  },
  {
   "cell_type": "markdown",
   "metadata": {},
   "source": [
    "# W1118"
   ]
  },
  {
   "cell_type": "markdown",
   "metadata": {},
   "source": [
    "## Is the Turn Angle affected by Time ?"
   ]
  },
  {
   "cell_type": "code",
   "execution_count": 46,
   "metadata": {},
   "outputs": [],
   "source": [
    "df = pd.read_excel(\"W1118 Time Blocks_Turn Angle.xlsx\")\n",
    "df.columns = df.columns.str.replace(\" \", \"_\")"
   ]
  },
  {
   "cell_type": "code",
   "execution_count": 47,
   "metadata": {},
   "outputs": [
    {
     "name": "stdout",
     "output_type": "stream",
     "text": [
      "              sum_sq     df         F    PR(>F)\n",
      "Period     13.176423    3.0  3.983347  0.007946\n",
      "Residual  657.164876  596.0       NaN       NaN\n"
     ]
    }
   ],
   "source": [
    "mod = ols(\"Turn_Angle ~ Period\",data=df).fit()               \n",
    "aov_table = sm.stats.anova_lm(mod, typ=2)\n",
    "print(aov_table)"
   ]
  },
  {
   "cell_type": "code",
   "execution_count": 48,
   "metadata": {},
   "outputs": [
    {
     "data": {
      "text/html": [
       "<table class=\"simpletable\">\n",
       "<caption>OLS Regression Results</caption>\n",
       "<tr>\n",
       "  <th>Dep. Variable:</th>       <td>Turn_Angle</td>    <th>  R-squared:         </th> <td>   0.020</td>\n",
       "</tr>\n",
       "<tr>\n",
       "  <th>Model:</th>                   <td>OLS</td>       <th>  Adj. R-squared:    </th> <td>   0.015</td>\n",
       "</tr>\n",
       "<tr>\n",
       "  <th>Method:</th>             <td>Least Squares</td>  <th>  F-statistic:       </th> <td>   3.983</td>\n",
       "</tr>\n",
       "<tr>\n",
       "  <th>Date:</th>             <td>Thu, 22 Apr 2021</td> <th>  Prob (F-statistic):</th>  <td>0.00795</td>\n",
       "</tr>\n",
       "<tr>\n",
       "  <th>Time:</th>                 <td>00:11:45</td>     <th>  Log-Likelihood:    </th> <td> -878.66</td>\n",
       "</tr>\n",
       "<tr>\n",
       "  <th>No. Observations:</th>      <td>   600</td>      <th>  AIC:               </th> <td>   1765.</td>\n",
       "</tr>\n",
       "<tr>\n",
       "  <th>Df Residuals:</th>          <td>   596</td>      <th>  BIC:               </th> <td>   1783.</td>\n",
       "</tr>\n",
       "<tr>\n",
       "  <th>Df Model:</th>              <td>     3</td>      <th>                     </th>     <td> </td>   \n",
       "</tr>\n",
       "<tr>\n",
       "  <th>Covariance Type:</th>      <td>nonrobust</td>    <th>                     </th>     <td> </td>   \n",
       "</tr>\n",
       "</table>\n",
       "<table class=\"simpletable\">\n",
       "<tr>\n",
       "             <td></td>                <th>coef</th>     <th>std err</th>      <th>t</th>      <th>P>|t|</th>  <th>[0.025</th>    <th>0.975]</th>  \n",
       "</tr>\n",
       "<tr>\n",
       "  <th>Intercept</th>               <td>    1.5009</td> <td>    0.086</td> <td>   17.506</td> <td> 0.000</td> <td>    1.332</td> <td>    1.669</td>\n",
       "</tr>\n",
       "<tr>\n",
       "  <th>Period[T.2.5 - 5 mins]</th>  <td>    0.0095</td> <td>    0.121</td> <td>    0.078</td> <td> 0.938</td> <td>   -0.229</td> <td>    0.248</td>\n",
       "</tr>\n",
       "<tr>\n",
       "  <th>Period[T.5 - 7.5mins]</th>   <td>   -0.3389</td> <td>    0.121</td> <td>   -2.795</td> <td> 0.005</td> <td>   -0.577</td> <td>   -0.101</td>\n",
       "</tr>\n",
       "<tr>\n",
       "  <th>Period[T.7.5 - 10 mins]</th> <td>   -0.2197</td> <td>    0.121</td> <td>   -1.812</td> <td> 0.070</td> <td>   -0.458</td> <td>    0.018</td>\n",
       "</tr>\n",
       "</table>\n",
       "<table class=\"simpletable\">\n",
       "<tr>\n",
       "  <th>Omnibus:</th>       <td>1781.241</td> <th>  Durbin-Watson:     </th> <td>   1.634</td>\n",
       "</tr>\n",
       "<tr>\n",
       "  <th>Prob(Omnibus):</th>  <td> 0.000</td>  <th>  Jarque-Bera (JB):  </th> <td>  52.208</td>\n",
       "</tr>\n",
       "<tr>\n",
       "  <th>Skew:</th>           <td> 0.276</td>  <th>  Prob(JB):          </th> <td>4.60e-12</td>\n",
       "</tr>\n",
       "<tr>\n",
       "  <th>Kurtosis:</th>       <td> 1.664</td>  <th>  Cond. No.          </th> <td>    4.79</td>\n",
       "</tr>\n",
       "</table><br/><br/>Warnings:<br/>[1] Standard Errors assume that the covariance matrix of the errors is correctly specified."
      ],
      "text/plain": [
       "<class 'statsmodels.iolib.summary.Summary'>\n",
       "\"\"\"\n",
       "                            OLS Regression Results                            \n",
       "==============================================================================\n",
       "Dep. Variable:             Turn_Angle   R-squared:                       0.020\n",
       "Model:                            OLS   Adj. R-squared:                  0.015\n",
       "Method:                 Least Squares   F-statistic:                     3.983\n",
       "Date:                Thu, 22 Apr 2021   Prob (F-statistic):            0.00795\n",
       "Time:                        00:11:45   Log-Likelihood:                -878.66\n",
       "No. Observations:                 600   AIC:                             1765.\n",
       "Df Residuals:                     596   BIC:                             1783.\n",
       "Df Model:                           3                                         \n",
       "Covariance Type:            nonrobust                                         \n",
       "===========================================================================================\n",
       "                              coef    std err          t      P>|t|      [0.025      0.975]\n",
       "-------------------------------------------------------------------------------------------\n",
       "Intercept                   1.5009      0.086     17.506      0.000       1.332       1.669\n",
       "Period[T.2.5 - 5 mins]      0.0095      0.121      0.078      0.938      -0.229       0.248\n",
       "Period[T.5 - 7.5mins]      -0.3389      0.121     -2.795      0.005      -0.577      -0.101\n",
       "Period[T.7.5 - 10 mins]    -0.2197      0.121     -1.812      0.070      -0.458       0.018\n",
       "==============================================================================\n",
       "Omnibus:                     1781.241   Durbin-Watson:                   1.634\n",
       "Prob(Omnibus):                  0.000   Jarque-Bera (JB):               52.208\n",
       "Skew:                           0.276   Prob(JB):                     4.60e-12\n",
       "Kurtosis:                       1.664   Cond. No.                         4.79\n",
       "==============================================================================\n",
       "\n",
       "Warnings:\n",
       "[1] Standard Errors assume that the covariance matrix of the errors is correctly specified.\n",
       "\"\"\""
      ]
     },
     "execution_count": 48,
     "metadata": {},
     "output_type": "execute_result"
    }
   ],
   "source": [
    "model = ols(\"Turn_Angle ~ Period\", data=df).fit()\n",
    "model.summary()"
   ]
  },
  {
   "cell_type": "markdown",
   "metadata": {},
   "source": [
    "## Is the Distance affected by Time ?"
   ]
  },
  {
   "cell_type": "code",
   "execution_count": 49,
   "metadata": {},
   "outputs": [],
   "source": [
    "df = pd.read_excel(\"W1118 Time Blocks_Distance.xlsx\")"
   ]
  },
  {
   "cell_type": "code",
   "execution_count": 50,
   "metadata": {},
   "outputs": [
    {
     "name": "stdout",
     "output_type": "stream",
     "text": [
      "              sum_sq     df          F        PR(>F)\n",
      "Period      8.287109    3.0  12.193549  9.406055e-08\n",
      "Residual  135.019939  596.0        NaN           NaN\n"
     ]
    }
   ],
   "source": [
    "mod = ols(\"Distance ~ Period\",data=df).fit()               \n",
    "aov_table = sm.stats.anova_lm(mod, typ=2)\n",
    "print(aov_table)"
   ]
  },
  {
   "cell_type": "code",
   "execution_count": 51,
   "metadata": {},
   "outputs": [
    {
     "data": {
      "text/html": [
       "<table class=\"simpletable\">\n",
       "<caption>OLS Regression Results</caption>\n",
       "<tr>\n",
       "  <th>Dep. Variable:</th>        <td>Distance</td>     <th>  R-squared:         </th> <td>   0.058</td>\n",
       "</tr>\n",
       "<tr>\n",
       "  <th>Model:</th>                   <td>OLS</td>       <th>  Adj. R-squared:    </th> <td>   0.053</td>\n",
       "</tr>\n",
       "<tr>\n",
       "  <th>Method:</th>             <td>Least Squares</td>  <th>  F-statistic:       </th> <td>   12.19</td>\n",
       "</tr>\n",
       "<tr>\n",
       "  <th>Date:</th>             <td>Thu, 22 Apr 2021</td> <th>  Prob (F-statistic):</th> <td>9.41e-08</td>\n",
       "</tr>\n",
       "<tr>\n",
       "  <th>Time:</th>                 <td>00:13:14</td>     <th>  Log-Likelihood:    </th> <td> -403.91</td>\n",
       "</tr>\n",
       "<tr>\n",
       "  <th>No. Observations:</th>      <td>   600</td>      <th>  AIC:               </th> <td>   815.8</td>\n",
       "</tr>\n",
       "<tr>\n",
       "  <th>Df Residuals:</th>          <td>   596</td>      <th>  BIC:               </th> <td>   833.4</td>\n",
       "</tr>\n",
       "<tr>\n",
       "  <th>Df Model:</th>              <td>     3</td>      <th>                     </th>     <td> </td>   \n",
       "</tr>\n",
       "<tr>\n",
       "  <th>Covariance Type:</th>      <td>nonrobust</td>    <th>                     </th>     <td> </td>   \n",
       "</tr>\n",
       "</table>\n",
       "<table class=\"simpletable\">\n",
       "<tr>\n",
       "             <td></td>                <th>coef</th>     <th>std err</th>      <th>t</th>      <th>P>|t|</th>  <th>[0.025</th>    <th>0.975]</th>  \n",
       "</tr>\n",
       "<tr>\n",
       "  <th>Intercept</th>               <td>    0.1603</td> <td>    0.039</td> <td>    4.125</td> <td> 0.000</td> <td>    0.084</td> <td>    0.237</td>\n",
       "</tr>\n",
       "<tr>\n",
       "  <th>Period[T.2.5 - 5 mins]</th>  <td>   -0.0200</td> <td>    0.055</td> <td>   -0.363</td> <td> 0.716</td> <td>   -0.128</td> <td>    0.088</td>\n",
       "</tr>\n",
       "<tr>\n",
       "  <th>Period[T.5 - 7.5mins]</th>   <td>    0.2045</td> <td>    0.055</td> <td>    3.720</td> <td> 0.000</td> <td>    0.097</td> <td>    0.312</td>\n",
       "</tr>\n",
       "<tr>\n",
       "  <th>Period[T.7.5 - 10 mins]</th> <td>    0.2418</td> <td>    0.055</td> <td>    4.400</td> <td> 0.000</td> <td>    0.134</td> <td>    0.350</td>\n",
       "</tr>\n",
       "</table>\n",
       "<table class=\"simpletable\">\n",
       "<tr>\n",
       "  <th>Omnibus:</th>       <td>246.935</td> <th>  Durbin-Watson:     </th> <td>   0.909</td> \n",
       "</tr>\n",
       "<tr>\n",
       "  <th>Prob(Omnibus):</th> <td> 0.000</td>  <th>  Jarque-Bera (JB):  </th> <td> 796.453</td> \n",
       "</tr>\n",
       "<tr>\n",
       "  <th>Skew:</th>          <td> 2.022</td>  <th>  Prob(JB):          </th> <td>1.13e-173</td>\n",
       "</tr>\n",
       "<tr>\n",
       "  <th>Kurtosis:</th>      <td> 6.938</td>  <th>  Cond. No.          </th> <td>    4.79</td> \n",
       "</tr>\n",
       "</table><br/><br/>Warnings:<br/>[1] Standard Errors assume that the covariance matrix of the errors is correctly specified."
      ],
      "text/plain": [
       "<class 'statsmodels.iolib.summary.Summary'>\n",
       "\"\"\"\n",
       "                            OLS Regression Results                            \n",
       "==============================================================================\n",
       "Dep. Variable:               Distance   R-squared:                       0.058\n",
       "Model:                            OLS   Adj. R-squared:                  0.053\n",
       "Method:                 Least Squares   F-statistic:                     12.19\n",
       "Date:                Thu, 22 Apr 2021   Prob (F-statistic):           9.41e-08\n",
       "Time:                        00:13:14   Log-Likelihood:                -403.91\n",
       "No. Observations:                 600   AIC:                             815.8\n",
       "Df Residuals:                     596   BIC:                             833.4\n",
       "Df Model:                           3                                         \n",
       "Covariance Type:            nonrobust                                         \n",
       "===========================================================================================\n",
       "                              coef    std err          t      P>|t|      [0.025      0.975]\n",
       "-------------------------------------------------------------------------------------------\n",
       "Intercept                   0.1603      0.039      4.125      0.000       0.084       0.237\n",
       "Period[T.2.5 - 5 mins]     -0.0200      0.055     -0.363      0.716      -0.128       0.088\n",
       "Period[T.5 - 7.5mins]       0.2045      0.055      3.720      0.000       0.097       0.312\n",
       "Period[T.7.5 - 10 mins]     0.2418      0.055      4.400      0.000       0.134       0.350\n",
       "==============================================================================\n",
       "Omnibus:                      246.935   Durbin-Watson:                   0.909\n",
       "Prob(Omnibus):                  0.000   Jarque-Bera (JB):              796.453\n",
       "Skew:                           2.022   Prob(JB):                    1.13e-173\n",
       "Kurtosis:                       6.938   Cond. No.                         4.79\n",
       "==============================================================================\n",
       "\n",
       "Warnings:\n",
       "[1] Standard Errors assume that the covariance matrix of the errors is correctly specified.\n",
       "\"\"\""
      ]
     },
     "execution_count": 51,
     "metadata": {},
     "output_type": "execute_result"
    }
   ],
   "source": [
    "model = ols(\"Distance ~ Period\", data=df).fit()\n",
    "model.summary()"
   ]
  },
  {
   "cell_type": "code",
   "execution_count": null,
   "metadata": {},
   "outputs": [],
   "source": []
  }
 ],
 "metadata": {
  "kernelspec": {
   "display_name": "Python 3",
   "language": "python",
   "name": "python3"
  },
  "language_info": {
   "codemirror_mode": {
    "name": "ipython",
    "version": 3
   },
   "file_extension": ".py",
   "mimetype": "text/x-python",
   "name": "python",
   "nbconvert_exporter": "python",
   "pygments_lexer": "ipython3",
   "version": "3.7.4"
  }
 },
 "nbformat": 4,
 "nbformat_minor": 2
}
